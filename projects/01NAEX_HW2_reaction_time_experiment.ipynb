{
  "cells": [
    {
      "cell_type": "markdown",
      "metadata": {
        "id": "view-in-github",
        "colab_type": "text"
      },
      "source": [
        "<a href=\"https://colab.research.google.com/github/epecenkova/01SU1/blob/main/projects/01NAEX_HW2_reaction_time_experiment.ipynb\" target=\"_parent\"><img src=\"https://colab.research.google.com/assets/colab-badge.svg\" alt=\"Open In Colab\"/></a>"
      ]
    },
    {
      "cell_type": "markdown",
      "id": "e5e8ba8e",
      "metadata": {
        "id": "e5e8ba8e"
      },
      "source": [
        "# 01NAEX - HW2: Reaction Time Experiment"
      ]
    },
    {
      "cell_type": "markdown",
      "id": "d592b19b",
      "metadata": {
        "id": "d592b19b"
      },
      "source": [
        "**Team Name:** Eliška, Anička, Dan, Oksi"
      ]
    },
    {
      "cell_type": "markdown",
      "id": "d0da3d99",
      "metadata": {
        "id": "d0da3d99"
      },
      "source": [
        "## Assignment"
      ]
    },
    {
      "cell_type": "markdown",
      "source": [
        "Design an experiment to measure the reaction time when responding to a color change on a screen, examining the dependence on 6 factors. Due to time constraints, you are encouraged to use a $\\frac{1}{2}$ fraction design: $2^{6-1}$ or a $\\frac{1}{4}$ fraction design: $2^{6-2}$, or a full factorial design with blocks. The response variable is the reaction time in milliseconds. The factors examined are:\n",
        "\n",
        "* Hand Used - Left hand vs. Right hand (categorical variable)\n",
        "* Distance of Hand from the Screen - Close vs. Far (numerical variable)\n",
        "* Noise Level in Background - Quiet (cca 60 dB) vs. Loud (cca 80 dB) (numerical variable)\n",
        "* Visual Focus - Watching the screen directly vs. Looking at another static object (categorical variable)\n",
        "* Distance of Screen from Eyes - Close  vs. Far  (numerical variable)\n",
        "* Brightness of the Screen - Low brightness  vs. High brightness (numerical variable)\n",
        "\n",
        "Due to the nature of this experiment, ensure consistency in instructions and measurement procedures across all participants.\n"
      ],
      "metadata": {
        "id": "9xg0tsbLzmrF"
      },
      "id": "9xg0tsbLzmrF"
    },
    {
      "cell_type": "markdown",
      "source": [
        "1. **Define the low and high levels for each variable**\n",
        "   - Define specific ranges and settings for each variable, both numerical and categorical, ensuring consistent conditions for each participant.\n",
        "   - Specify what data you will record and how.\n",
        "\n",
        "# Experiment Description\n",
        "\n",
        "In this experiment, we measured reaction time based on different settings. The variables chosen for this experiment were:\n",
        "\n",
        "### Categorical Variables\n",
        "- **Operant**:  \n",
        "  - 1 = Eliška  \n",
        "  - -1 = Anička  \n",
        "\n",
        "- **Hand**:  \n",
        "  - 1 = right  \n",
        "  - -1 = left  \n",
        "\n",
        "- **Visual Focus**:  \n",
        "  - 1 = focusing directly on the laptop screen  \n",
        "  - -1 = focusing on a video (i.e., seeing the laptop screen in peripheral vision)  \n",
        "\n",
        "- **Signal Type**:  \n",
        "  - 1 = response to an auditory signal  \n",
        "  - -1 = response to a visual signal  \n",
        "\n",
        "- **Intoxication**:  \n",
        "  - 1 = sober  \n",
        "  - -1 = under the influence of alcohol  \n",
        "\n",
        "### Numerical Variables\n",
        "- **Distance of the Hand from the Spacebar**:  \n",
        "  - 1 = 0 cm  \n",
        "  - -1 = 10 cm  \n",
        "\n",
        "- **Noise Level**:  \n",
        "  - 1 = 30 dB  \n",
        "  - -1 = 75 dB  \n",
        "\n",
        "## Data Collection\n",
        "- The **visual signal** was measured using https://www.justpark.com/creative/reaction-time-test/.  \n",
        "- The **auditory signal** was measured using https://playback.fm/audio-reaction-time#/google_vignette.  \n",
        "- To create the noise level, we chose album **Semaphore from Black Orchid Empire**\n",
        "\n",
        "## Experimental Procedure\n",
        "The experiment was conducted in the following sequence:  \n",
        "1. Both participants (operants) started sober.  \n",
        "2. Anička measured her data first, followed by Eliška.  \n",
        "3. Both operants then consumed alcohol:  \n",
        "   - Anička chose one Gin and Tonic.  \n",
        "   - Eliška chose one Negroni.  \n",
        "4. Afterward, Anička measured her data first, followed by Eliška.\n",
        "\n"
      ],
      "metadata": {
        "id": "02sB569MWjim"
      },
      "id": "02sB569MWjim"
    },
    {
      "cell_type": "markdown",
      "source": [
        "2. **Design the experimental design**\n",
        "   - Choose appropriate generators to achieve the desired fractional design. Provide details on the chosen resolution, alias structure, and how it impacts the interpretation of main effects and interactions.\n",
        "\n"
      ],
      "metadata": {
        "id": "GLfXk9jjNb72"
      },
      "id": "GLfXk9jjNb72"
    },
    {
      "cell_type": "markdown",
      "source": [
        "# Experimental Design\n",
        "\n",
        "In our experiment, we worked with 7 variables. A full factorial design for 7 variables would require $ 2^7 = 128 $ observations. Since we did not have time to measure 128 observations, we opted for a $\\frac{1}{4}$ fraction design: $2^{7-2}$. This resulted in each participant (Eliška and Anička) measuring 16 observations, for a total of 32 observations.\n",
        "\n",
        "## Variable Labels\n",
        "The variables were labeled as follows:\n",
        "- **A** = Operant  \n",
        "- **B** = Hand  \n",
        "- **C** = Distance of the Hand from the Spacebar  \n",
        "- **D** = Noise Level  \n",
        "- **E** = Visual Focus  \n",
        "- **F** = Signal Type  \n",
        "- **G** = Intoxication  \n",
        "\n",
        "## Fractional Factorial Design\n",
        "Since this is a \\( 2^7-2 \\) factorial design, we used the following generators:  \n",
        "- \\( F = +ABCD \\)  \n",
        "- \\( G = ABDE \\)\n"
      ],
      "metadata": {
        "id": "KaItCDCLUAjc"
      },
      "id": "KaItCDCLUAjc"
    },
    {
      "cell_type": "markdown",
      "source": [
        "3. **Measure data**\n",
        "   - Record the reaction time in milliseconds using a reaction timer app on a mobile phone.\n",
        "   - Because of the high probability of measuring outliers, it is recommended to repeat each combination 5 times and take the median as a representative measurement for a given experimental setup.\n",
        "\n"
      ],
      "metadata": {
        "id": "jWRdgQBDNfUn"
      },
      "id": "jWRdgQBDNfUn"
    },
    {
      "cell_type": "markdown",
      "source": [
        "4. **Calculate the individual effects and their interactions**\n",
        "   - Analyze the main effects and interactions using coded variables. Determine the significance of each factor.\n",
        "\n"
      ],
      "metadata": {
        "id": "By4fkTaZNp0c"
      },
      "id": "By4fkTaZNp0c"
    },
    {
      "cell_type": "markdown",
      "source": [
        "5. **Determine significant factors and interactions**\n",
        "   - Generate appropriate visualizations such as main effects plots (e.g., Daniel plot), interaction plots, and boxplots to interpret the data. Use these to identify significant factors.\n",
        "\n"
      ],
      "metadata": {
        "id": "otU-tjMpNtlF"
      },
      "id": "otU-tjMpNtlF"
    },
    {
      "cell_type": "markdown",
      "source": [
        "6. **Perform ANOVA**\n",
        "   - Conduct an analysis of variance to assess the main effects and interactions, validating the model using plots and statistical hypothesis tests.\n",
        "\n"
      ],
      "metadata": {
        "id": "dcSzuHwTNxZL"
      },
      "id": "dcSzuHwTNxZL"
    },
    {
      "cell_type": "markdown",
      "source": [
        "7. **Add measurements at the 'center points'**\n",
        "   - Include additional measurements at center points (e.g., mid-levels of numerical variables) to detect potential curvature and non-linear effects. Analyze what information the center point measurements provide.\n",
        "\n"
      ],
      "metadata": {
        "id": "M8HX0Y3UN0dH"
      },
      "id": "M8HX0Y3UN0dH"
    },
    {
      "cell_type": "markdown",
      "source": [
        "8. **Construct a final regression model**\n",
        "   - Create a regression model that represents the relationship between the reaction time and significant factors.\n",
        "   - Check for assumptions of the regression model such as linearity, homoscedasticity, normality of residuals, and absence of multicollinearity. Use appropriate plots and statistical tests to validate these assumptions.\n",
        "\n"
      ],
      "metadata": {
        "id": "CfhQL3FgN3tn"
      },
      "id": "CfhQL3FgN3tn"
    },
    {
      "cell_type": "markdown",
      "source": [
        "9. **Create contour plots for significant numerical variables**\n",
        "   - For all pairs of significant numerical variables, plot their contours to find optimal settings for the lowest reaction time, using the actual numerical values rather than coded values.\n",
        "\n"
      ],
      "metadata": {
        "id": "efMzfG1WN6T5"
      },
      "id": "efMzfG1WN6T5"
    },
    {
      "cell_type": "markdown",
      "source": [
        "10. **Discuss the Limitations and Potential Improvements**\n",
        "    - Suggest potential improvements. Consider factors such as sample size, potential biases, and measurement precision.\n",
        "    - Discuss sensitivity analysis (how changes in the levels of significant factors affect the outcome) and the robustness of the model's predictions when conditions vary.\n",
        "\n"
      ],
      "metadata": {
        "id": "mTd_fH6pN8WI"
      },
      "id": "mTd_fH6pN8WI"
    },
    {
      "cell_type": "markdown",
      "source": [
        "11.  **Predict and Validate on New Data** (Bonus)\n",
        " - Collect new reaction time data under selected conditions predicted to yield optimal results. Compare the predicted outcomes with actual results to validate the model.\n",
        "  - Discuss how the findings from the experiment could be applied in real-world settings, such as improving reaction times in different professions or daily activities."
      ],
      "metadata": {
        "id": "x4R6y6vLN-ki"
      },
      "id": "x4R6y6vLN-ki"
    },
    {
      "cell_type": "markdown",
      "source": [
        "\n",
        "\n",
        "## Additional Notes\n",
        "\n",
        "- Ensure that all measurements are taken randomly and consistently for reliability.\n",
        "- Discuss the implications of your findings in the context of human reaction time and its potential applications.\n",
        "\n",
        "## Submission conditions:\n",
        "Submit the completed jupyter notebook, with commented code and measured data, by December 1, 2024.\n"
      ],
      "metadata": {
        "id": "GzOfwPBPR8u-"
      },
      "id": "GzOfwPBPR8u-"
    },
    {
      "cell_type": "code",
      "source": [],
      "metadata": {
        "id": "16CKJp9b-K31"
      },
      "id": "16CKJp9b-K31",
      "execution_count": null,
      "outputs": []
    }
  ],
  "metadata": {
    "colab": {
      "provenance": [],
      "include_colab_link": true
    }
  },
  "nbformat": 4,
  "nbformat_minor": 5
}